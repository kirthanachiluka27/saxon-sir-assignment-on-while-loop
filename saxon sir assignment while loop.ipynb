{
 "cells": [
  {
   "cell_type": "code",
   "execution_count": null,
   "id": "e97ea3f0",
   "metadata": {},
   "outputs": [],
   "source": [
    "1#string\"abcd\" create a new string the output required is even indexed capital odd indexed lower"
   ]
  },
  {
   "cell_type": "code",
   "execution_count": 1,
   "id": "584ff8ca",
   "metadata": {},
   "outputs": [
    {
     "name": "stdout",
     "output_type": "stream",
     "text": [
      "enter your datashreyansh\n",
      "ShReYaNsH"
     ]
    }
   ],
   "source": [
    "x=input(\"enter your data\")\n",
    "l=len(x)\n",
    "y=0\n",
    "while y<l:\n",
    "    if y%2==0:\n",
    "        print(x[y].upper(),end=\"\")\n",
    "    else:\n",
    "        print(x[y].lower(),end=\"\")\n",
    "    y=y+1\n"
   ]
  },
  {
   "cell_type": "code",
   "execution_count": null,
   "id": "083f969b",
   "metadata": {},
   "outputs": [],
   "source": [
    "2#x=[\"a\",1.2,322,\"abc\",1+2j]\n",
    "#output should give datatype of each element "
   ]
  },
  {
   "cell_type": "code",
   "execution_count": 2,
   "id": "df3aad21",
   "metadata": {},
   "outputs": [
    {
     "name": "stdout",
     "output_type": "stream",
     "text": [
      "<class 'str'>\n",
      "<class 'float'>\n",
      "<class 'int'>\n",
      "<class 'str'>\n",
      "<class 'complex'>\n"
     ]
    }
   ],
   "source": [
    "x=[\"a\",1.2,322,\"abc\",1+2j]\n",
    "y=len(x)\n",
    "c=0\n",
    "while c<y:\n",
    "    print(type(x[c]))\n",
    "    c=c+1"
   ]
  },
  {
   "cell_type": "code",
   "execution_count": null,
   "id": "ebf14830",
   "metadata": {},
   "outputs": [],
   "source": [
    "#x=[\"a\",\"b\",1,2,3,\"d\",\"e\",4] combine all your string into single string and add remaining numbers "
   ]
  },
  {
   "cell_type": "code",
   "execution_count": null,
   "id": "98e01a5a",
   "metadata": {},
   "outputs": [],
   "source": [
    "x=[\"a\",\"b\",1,2,3,\"d\",\"e\",4]\n",
    "y=[]\n",
    "z=[]\n",
    "l=len(x)\n",
    "k=0\n",
    "m=0\n",
    "while k<l:\n",
    "    p=type(x[k])\n",
    "    if p==int:\n",
    "        m=m+x[k]\n",
    "    else:\n",
    "        print(x[k],end=\"\")\n",
    "    k=k+1\n",
    "print(\"1+2+3+4=\",m)\n"
   ]
  },
  {
   "cell_type": "code",
   "execution_count": null,
   "id": "59f6cad0",
   "metadata": {},
   "outputs": [],
   "source": [
    "#in a string \"abcd123ef\" write a logic where you get two list say N alphabets and C numbers (use dynamic)"
   ]
  },
  {
   "cell_type": "code",
   "execution_count": 3,
   "id": "fc38c571",
   "metadata": {},
   "outputs": [
    {
     "name": "stdout",
     "output_type": "stream",
     "text": [
      "enter your stringabcd123ef\n",
      "[['1', '2', '3']]\n",
      "[['a', 'b', 'c', 'd', 'e', 'f']]\n"
     ]
    }
   ],
   "source": [
    "x=input(\"enter your string\")\n",
    "N=[]\n",
    "C=[]\n",
    "k=len(x)\n",
    "y=0\n",
    "while y<k:\n",
    "    if x[y].isdigit():\n",
    "        N.append(x[y])\n",
    "    else:\n",
    "        C.append(x[y])\n",
    "    y=y+1\n",
    "print([N])\n",
    "print([C])\n",
    "\n"
   ]
  },
  {
   "cell_type": "code",
   "execution_count": null,
   "id": "5a94e5a6",
   "metadata": {},
   "outputs": [],
   "source": [
    "#create a calculator x=int(input(\"type mun 1\"))y\n"
   ]
  },
  {
   "cell_type": "code",
   "execution_count": 5,
   "id": "8c7668dd",
   "metadata": {},
   "outputs": [
    {
     "name": "stdout",
     "output_type": "stream",
     "text": [
      "type num 15\n",
      "type +-,*,/+\n",
      "type num 22\n",
      "type +,-,c+\n",
      "type num 35\n",
      "12\n",
      "type num 15\n",
      "type +-,*,/+\n",
      "type num 25\n",
      "type +,-,c-\n",
      "type num 36\n",
      "16\n",
      "type num 15\n",
      "type +-,*,/+\n",
      "type num 29\n",
      "type +,-,cc\n",
      "type num 35\n",
      "19\n"
     ]
    }
   ],
   "source": [
    "a=0\n",
    "while a!=\"c\":\n",
    "    x=int(input(\"type num 1\"))\n",
    "    n=input(\"type +-,*,/\")\n",
    "    v=int(input(\"type num 2\"))\n",
    "    a=input(\"type +,-,c\")\n",
    "    z=int(input(\"type num 3\"))\n",
    "    print(x+v+z)\n",
    "    "
   ]
  },
  {
   "cell_type": "code",
   "execution_count": null,
   "id": "ea665c9e",
   "metadata": {},
   "outputs": [],
   "source": []
  },
  {
   "cell_type": "code",
   "execution_count": null,
   "id": "a4827a4b",
   "metadata": {},
   "outputs": [],
   "source": []
  }
 ],
 "metadata": {
  "kernelspec": {
   "display_name": "Python 3 (ipykernel)",
   "language": "python",
   "name": "python3"
  },
  "language_info": {
   "codemirror_mode": {
    "name": "ipython",
    "version": 3
   },
   "file_extension": ".py",
   "mimetype": "text/x-python",
   "name": "python",
   "nbconvert_exporter": "python",
   "pygments_lexer": "ipython3",
   "version": "3.9.12"
  }
 },
 "nbformat": 4,
 "nbformat_minor": 5
}
